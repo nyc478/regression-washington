{
 "cells": [
  {
   "cell_type": "code",
   "execution_count": 2,
   "metadata": {
    "collapsed": true
   },
   "outputs": [],
   "source": [
    "import pandas as pd\n",
    "import numpy as np\n",
    "import math\n",
    "import statistics\n",
    "from sklearn import datasets, linear_model\n",
    "from sklearn.metrics import mean_squared_error, r2_score"
   ]
  },
  {
   "cell_type": "code",
   "execution_count": 21,
   "metadata": {
    "collapsed": true
   },
   "outputs": [],
   "source": [
    "kcdf = pd.read_csv('~/Documents/GitHub/regression-washington/data/kc_house_data.csv')\n",
    "train_data = pd.read_csv('~/Documents/GitHub/regression-washington/data/kc_house_train_data.csv')\n",
    "test_data = pd.read_csv('~/Documents/GitHub/regression-washington/data/kc_house_test_data.csv')"
   ]
  },
  {
   "cell_type": "code",
   "execution_count": 13,
   "metadata": {
    "collapsed": false
   },
   "outputs": [],
   "source": [
    "# Step 3\n",
    "train_data['bedrooms_squared'] =  train_data['bedrooms']**2\n",
    "train_data['bed_bath_rooms'] = train_data['bedrooms']*train_data['bathrooms']\n",
    "train_data['log_sqft_living'] = np.log(train_data['sqft_living'])\n",
    "train_data['lat_plus_long'] = train_data['lat'] + train_data['long']\n",
    "test_data['bedrooms_squared'] =  test_data['bedrooms']**2\n",
    "test_data['bed_bath_rooms'] = test_data['bedrooms']*test_data['bathrooms']\n",
    "test_data['log_sqft_living'] = np.log(test_data['sqft_living'])\n",
    "test_data['lat_plus_long'] = test_data['lat'] + test_data['long']"
   ]
  },
  {
   "cell_type": "code",
   "execution_count": 5,
   "metadata": {
    "collapsed": false
   },
   "outputs": [
    {
     "name": "stdout",
     "output_type": "stream",
     "text": [
      "bedrooms_squared_mean: 12.45\n",
      "bed_bath_rooms_mean: 7.5\n",
      "log_sqft_living_mean: 7.55\n",
      "lat_plus_long_mean: -74.65\n"
     ]
    }
   ],
   "source": [
    "# 4. Quiz Question: what are the mean (arithmetic average) values of your 4 new variables on TEST data? \n",
    "#(round to 2 digits)\n",
    "bedrooms_squared_mean = test_data['bedrooms_squared'].mean(); print(\"bedrooms_squared_mean:\", round(bedrooms_squared_mean,2))\n",
    "bed_bath_rooms_mean = test_data['bed_bath_rooms'].mean(); print(\"bed_bath_rooms_mean:\", round(bed_bath_rooms_mean,2))\n",
    "log_sqft_living_mean = test_data['log_sqft_living'].mean(); print(\"log_sqft_living_mean:\", round(log_sqft_living_mean,2))\n",
    "lat_plus_long_mean = test_data['lat_plus_long'].mean(); print(\"lat_plus_long_mean:\", round(lat_plus_long_mean,2))"
   ]
  },
  {
   "cell_type": "code",
   "execution_count": 20,
   "metadata": {
    "collapsed": false
   },
   "outputs": [
    {
     "data": {
      "text/plain": [
       "LinearRegression(copy_X=True, fit_intercept=True, n_jobs=None,\n",
       "         normalize=False)"
      ]
     },
     "execution_count": 20,
     "metadata": {},
     "output_type": "execute_result"
    }
   ],
   "source": [
    "# Model 1: ‘sqft_living’, ‘bedrooms’, ‘bathrooms’, ‘lat’, and ‘long’\n",
    "\n",
    "rg_model1 = linear_model.LinearRegression()\n",
    "y_train = train_data['price']\n",
    "model1_x = train_data[['sqft_living', 'bedrooms', 'bathrooms', 'lat', 'long']]\n",
    "rg_model1.fit(model1_x, y_train)\n",
    "\n",
    "#Model 2: ‘sqft_living’, ‘bedrooms’, ‘bathrooms’, ‘lat’,‘long’, and ‘bed_bath_rooms’\n",
    "rg_model2 = linear_model.LinearRegression()\n",
    "model2_x = train_data[['sqft_living', 'bedrooms', 'bathrooms', 'lat', 'long','bed_bath_rooms']]\n",
    "rg_model2.fit(model2_x, y_train)\n",
    "\n",
    "#Model 3: ‘sqft_living’, ‘bedrooms’, ‘bathrooms’, ‘lat’,‘long’, ‘bed_bath_rooms’, \n",
    "#‘bedrooms_squared’, ‘log_sqft_living’, and ‘lat_plus_long’\n",
    "rg_model3 = linear_model.LinearRegression()\n",
    "model3_x = train_data[['sqft_living', 'bedrooms', 'bathrooms', 'lat', 'long','bed_bath_rooms',\n",
    "                       'bedrooms_squared','log_sqft_living','lat_plus_long']]\n",
    "rg_model3.fit(model3_x, y_train)\n",
    "\n"
   ]
  },
  {
   "cell_type": "code",
   "execution_count": 8,
   "metadata": {
    "collapsed": false
   },
   "outputs": [
    {
     "name": "stdout",
     "output_type": "stream",
     "text": [
      "Coefficients model1: \n",
      " [('sqft_living', 312.2586462732027), ('bedrooms', -59586.53315361222), ('bathrooms', 15706.742082734667), ('lat', 658619.2639305154), ('long', -309374.35126823327)]\n",
      "Coefficients model2: \n",
      " [('sqft_living', 306.6100534589955), ('bedrooms', -113446.36807020336), ('bathrooms', -71461.3082927587), ('lat', 654844.6295033012), ('long', -294298.9691381188), ('bed_bath_rooms', 25579.652000752052)]\n",
      "Coefficients model3: \n",
      " [('sqft_living', 529.4228196465226), ('bedrooms', 34514.229577989994), ('bathrooms', 67060.78131891116), ('lat', 534085.6108674947), ('long', -406750.7108610399), ('bed_bath_rooms', -8570.504394630101), ('bedrooms_squared', -6788.586670340511), ('log_sqft_living', -561831.4840755209), ('lat_plus_long', 127334.9000064558)]\n"
     ]
    }
   ],
   "source": [
    "#6. Quiz Question: What is the sign (positive or negative) for the coefficient/weight for ‘bathrooms’ in Model 1?\n",
    "\n",
    "#7. Quiz Question: What is the sign (positive or negative) for the coefficient/weight for ‘bathrooms’ in Model 2?\n",
    "print('Coefficients model1: \\n',list(zip(['sqft_living', 'bedrooms', 'bathrooms', 'lat', 'long'], rg_model1.coef_)))\n",
    "print('Coefficients model2: \\n', list(zip(['sqft_living', 'bedrooms', 'bathrooms', 'lat', 'long','bed_bath_rooms'], rg_model2.coef_)))\n",
    "print('Coefficients model3: \\n', list(zip(['sqft_living', 'bedrooms', 'bathrooms', 'lat', 'long','bed_bath_rooms',\n",
    "                       'bedrooms_squared','log_sqft_living','lat_plus_long'], rg_model3.coef_)))"
   ]
  },
  {
   "cell_type": "code",
   "execution_count": 9,
   "metadata": {
    "collapsed": false
   },
   "outputs": [
    {
     "name": "stdout",
     "output_type": "stream",
     "text": [
      "967879963049545.6\n",
      "958419635074068.5\n",
      "903436455050477.6\n"
     ]
    }
   ],
   "source": [
    "print(((rg_model1.predict(model1_x) - y_train) ** 2).sum())\n",
    "print(((rg_model2.predict(model2_x) - y_train) ** 2).sum())\n",
    "print(((rg_model3.predict(model3_x) - y_train) ** 2).sum())\n",
    "\n"
   ]
  },
  {
   "cell_type": "code",
   "execution_count": 18,
   "metadata": {
    "collapsed": false
   },
   "outputs": [
    {
     "name": "stdout",
     "output_type": "stream",
     "text": [
      "225500469795490.0\n",
      "223377462976466.88\n",
      "259236319207179.94\n"
     ]
    }
   ],
   "source": [
    "model1_x_test = test_data[['sqft_living', 'bedrooms', 'bathrooms', 'lat', 'long']]\n",
    "model2_x_test = test_data[['sqft_living', 'bedrooms', 'bathrooms', 'lat', 'long','bed_bath_rooms']]\n",
    "model3_x_test = test_data[['sqft_living', 'bedrooms', 'bathrooms', 'lat', 'long','bed_bath_rooms',\n",
    "                           'bedrooms_squared', 'log_sqft_living','lat_plus_long']]\n",
    "ytest = test_data['price']\n",
    "print(((rg_model1.predict(model1_x_test) - ytest) ** 2).sum())\n",
    "print(((rg_model2.predict(model2_x_test) - ytest) ** 2).sum())\n",
    "print(((rg_model3.predict(model3_x_test) - ytest) ** 2).sum())"
   ]
  },
  {
   "cell_type": "markdown",
   "metadata": {},
   "source": [
    "# Multiple Linear Regression Quiz 2\n",
    "## Implementing gradient descent"
   ]
  },
  {
   "cell_type": "code",
   "execution_count": 38,
   "metadata": {
    "collapsed": false
   },
   "outputs": [],
   "source": [
    "kcdf = pd.read_csv('~/Documents/GitHub/regression-washington/data/kc_house_data.csv')\n",
    "train_data = pd.read_csv('~/Documents/GitHub/regression-washington/data/kc_house_train_data.csv')\n",
    "test_data = pd.read_csv('~/Documents/GitHub/regression-washington/data/kc_house_test_data.csv')"
   ]
  },
  {
   "cell_type": "code",
   "execution_count": 130,
   "metadata": {
    "collapsed": false
   },
   "outputs": [],
   "source": [
    "# Step 3\n",
    "def get_numpy_data(data, features, output):\n",
    "    data['constant'] = 1 # add a constant column to an SFrame\n",
    "    # prepend variable 'constant' to the features list\n",
    "    features = ['constant'] + features\n",
    "    # select the columns of data_SFrame given by the ‘features’ list into the SFrame ‘features_sframe’\n",
    "    # this will convert the features_sframe into a numpy matrix with GraphLab Create >= 1.7!!\n",
    "    features_matrix = data[features]\n",
    "    # assign the column of data_sframe associated with the target to the variable ‘output_sarray’ \n",
    "    # this will convert the SArray into a numpy array:\n",
    "    output_array = data[output] # GraphLab Create>= 1.7!!\n",
    "    return(features_matrix, output_array)"
   ]
  },
  {
   "cell_type": "code",
   "execution_count": 73,
   "metadata": {
    "collapsed": false
   },
   "outputs": [],
   "source": [
    "a,b = get_numpy_data(test_data, ['sqft_living', 'bedrooms'], 'price')"
   ]
  },
  {
   "cell_type": "code",
   "execution_count": 50,
   "metadata": {
    "collapsed": false
   },
   "outputs": [],
   "source": [
    "def predict_outcome(feature_matrix, weights):\n",
    "    predictions = np.dot(feature_matrix, weights) \n",
    "    return(predictions)"
   ]
  },
  {
   "cell_type": "code",
   "execution_count": 138,
   "metadata": {
    "collapsed": false
   },
   "outputs": [],
   "source": [
    "def feature_derivative(errors, feature):\n",
    "    feature_matrix = np.array(feature)\n",
    "    derivative = 2*np.dot(feature_matrix, errors) \n",
    "    return(derivative)"
   ]
  },
  {
   "cell_type": "code",
   "execution_count": 235,
   "metadata": {
    "collapsed": true
   },
   "outputs": [],
   "source": [
    "def regression_gradient_descent(feature_matrix, output, initial_weights, step_size, tolerance):\n",
    "    converged = False\n",
    "    weights = np.array(initial_weights)\n",
    "    gradient_sum_squares = 0 \n",
    "    output = np.array(output)\n",
    "    counter = 0\n",
    "    while not converged:\n",
    "        # compute the predictions based on feature_matrix and weights:\n",
    "        # compute the errors as predictions - output:\n",
    "        predictions =  predict_outcome(feature_matrix, weights)\n",
    "        errors = output - predictions\n",
    "        gradient_sum_squares = 0 # initialize the gradient\n",
    "        # while not converged, update each weight individually:\n",
    "        for i in range(len(weights)):\n",
    "            # print(feature_matrix.iloc[:,1])\n",
    "            # Recall that feature_matrix[:, i] is the feature column associated with weights[i]\n",
    "            # compute the derivative for weight[i]:\n",
    "            derivative = feature_derivative(errors, feature_matrix.iloc[:,i])\n",
    "            # add the squared derivative to the gradient magnitude\n",
    "            gradient_sum_squares += derivative **2\n",
    "            # update the weight based on step size and derivative:\n",
    "            #print(step_size * derivative) \n",
    "            weights[i] = weights[i] + (step_size * derivative)            \n",
    "            gradient_magnitude = math.sqrt(gradient_sum_squares)\n",
    "        #print(gradient_magnitude, tolerance)\n",
    "        if (gradient_magnitude < tolerance or counter > 10000):\n",
    "            converged = True\n",
    "        counter +=1\n",
    "    return(weights, counter)\n"
   ]
  },
  {
   "cell_type": "code",
   "execution_count": 255,
   "metadata": {
    "collapsed": false
   },
   "outputs": [],
   "source": [
    "simple_features = ['sqft_living']\n",
    "my_output= 'price'\n",
    "(simple_feature_matrix, output) = get_numpy_data(train_data, simple_features, my_output)\n",
    "initial_weights = np.array([-47000., 1.])\n",
    "step_size = 7e-12\n",
    "tolerance = 2.5e7\n"
   ]
  },
  {
   "cell_type": "code",
   "execution_count": 256,
   "metadata": {
    "collapsed": false
   },
   "outputs": [
    {
     "data": {
      "text/plain": [
       "10157238227.0"
      ]
     },
     "execution_count": 256,
     "metadata": {},
     "output_type": "execute_result"
    }
   ],
   "source": [
    "errors = output - predict_outcome(simple_feature_matrix, initial_weights)\n",
    "np.dot(np.array(simple_feature_matrix.iloc[:,i]),np.array(errors))\n",
    "#simple_feature_matrix.iloc[:,i]\n",
    "#feature_derivative(errors, simple_feature_matrix.iloc[:,i])"
   ]
  },
  {
   "cell_type": "code",
   "execution_count": 257,
   "metadata": {
    "collapsed": false
   },
   "outputs": [
    {
     "name": "stdout",
     "output_type": "stream",
     "text": [
      "[-46999.88716555    281.91211918] 12\n"
     ]
    }
   ],
   "source": [
    "weights, iterations = regression_gradient_descent(simple_feature_matrix, output, initial_weights, step_size, tolerance)\n",
    "print(weights, iterations)"
   ]
  },
  {
   "cell_type": "code",
   "execution_count": 221,
   "metadata": {
    "collapsed": false
   },
   "outputs": [
    {
     "data": {
      "text/plain": [
       "356134.0"
      ]
     },
     "execution_count": 221,
     "metadata": {},
     "output_type": "execute_result"
    }
   ],
   "source": [
    "#11. Quiz Question: What is the predicted price for the 1st house in the Test data set for model 1 \n",
    "#(round to nearest dollar)?\n",
    "(feature_matrix_test,output)  = get_numpy_data(test_data, ['sqft_living'], 'price')\n",
    "round(predict_outcome(feature_matrix_test.iloc[0],weights))\n"
   ]
  },
  {
   "cell_type": "code",
   "execution_count": 225,
   "metadata": {
    "collapsed": false
   },
   "outputs": [
    {
     "data": {
      "text/plain": [
       "275400044902128.78"
      ]
     },
     "execution_count": 225,
     "metadata": {},
     "output_type": "execute_result"
    }
   ],
   "source": [
    "# 12. Now compute RSS on all test data for this model. Record the value and store it for later\n",
    "RSS = sum((output - predict_outcome(feature_matrix_test,weights))**2)\n",
    "RSS\n",
    "#275400044902128.31\n"
   ]
  },
  {
   "cell_type": "code",
   "execution_count": 240,
   "metadata": {
    "collapsed": false
   },
   "outputs": [
    {
     "name": "stdout",
     "output_type": "stream",
     "text": [
      "[-9.99999688e+04  2.45072603e+02  6.52795267e+01] 274\n"
     ]
    }
   ],
   "source": [
    "# 13. Now we will use the gradient descent to fit a model with more than 1 predictor variable (and an intercept). \n",
    "#Use the following parameters:\n",
    "model_features = ['sqft_living', 'sqft_living15']\n",
    "my_output = 'price'\n",
    "(feature_matrix, output) = get_numpy_data(train_data, model_features,my_output)\n",
    "initial_weights = np.array([-100000., 1., 1.])\n",
    "step_size = 4e-12\n",
    "tolerance = 1e9\n",
    "weights, iterations = regression_gradient_descent(feature_matrix, output, initial_weights, step_size, tolerance)\n",
    "print(weights, iterations)"
   ]
  },
  {
   "cell_type": "code",
   "execution_count": 242,
   "metadata": {
    "collapsed": false
   },
   "outputs": [
    {
     "data": {
      "text/plain": [
       "366651.0"
      ]
     },
     "execution_count": 242,
     "metadata": {},
     "output_type": "execute_result"
    }
   ],
   "source": [
    "# 14. Use the regression weights from this second model \n",
    "# (using sqft_living and sqft_living_15) and predict the outcome of all the house prices on the TEST data.\n",
    "(test_feature_matrix, test_output) = get_numpy_data(test_data, model_features, my_output)\n",
    "predicted_house_prices_model2 = predict_outcome(test_feature_matrix, weights)\n"
   ]
  },
  {
   "cell_type": "code",
   "execution_count": 243,
   "metadata": {
    "collapsed": false
   },
   "outputs": [
    {
     "data": {
      "text/plain": [
       "366651.0"
      ]
     },
     "execution_count": 243,
     "metadata": {},
     "output_type": "execute_result"
    }
   ],
   "source": [
    "# 15. Quiz Question: What is the predicted price for the 1st house in the TEST data set for model 2 \n",
    "# (round to nearest dollar)?\n",
    "round(predicted_house_prices_model2[0])"
   ]
  },
  {
   "cell_type": "code",
   "execution_count": 247,
   "metadata": {
    "collapsed": false
   },
   "outputs": [
    {
     "name": "stdout",
     "output_type": "stream",
     "text": [
      "-144751.41162949387\n",
      "-134234.0\n"
     ]
    }
   ],
   "source": [
    "#17. Quiz Question: Which estimate was closer to the true price for the 1st house on the TEST data set, model 1 or model 2?\n",
    "print(output[0] - predicted_house_prices_model2[0])\n",
    "print(output[0] - 356134.0)"
   ]
  },
  {
   "cell_type": "code",
   "execution_count": 254,
   "metadata": {
    "collapsed": false
   },
   "outputs": [
    {
     "name": "stdout",
     "output_type": "stream",
     "text": [
      " RSS model 1: 275400044902128.78 \n",
      " RSS model 2: 270263443629803.3\n"
     ]
    }
   ],
   "source": [
    "RSS2 = sum((test_output - predicted_house_prices_model2)**2)\n",
    "print(\" RSS model 1:\", RSS,\"\\n\",\"RSS model 2:\", RSS2)\n"
   ]
  },
  {
   "cell_type": "code",
   "execution_count": null,
   "metadata": {
    "collapsed": true
   },
   "outputs": [],
   "source": []
  }
 ],
 "metadata": {
  "kernelspec": {
   "display_name": "Python 3",
   "language": "python",
   "name": "python3"
  },
  "language_info": {
   "codemirror_mode": {
    "name": "ipython",
    "version": 3
   },
   "file_extension": ".py",
   "mimetype": "text/x-python",
   "name": "python",
   "nbconvert_exporter": "python",
   "pygments_lexer": "ipython3",
   "version": "3.6.2"
  }
 },
 "nbformat": 4,
 "nbformat_minor": 2
}
